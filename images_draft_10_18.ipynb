{
 "cells": [
  {
   "cell_type": "code",
   "execution_count": 1,
   "metadata": {},
   "outputs": [],
   "source": [
    "import pandas as pd\n",
    "import sqlite3\n",
    "import altair as alt\n",
    "import geopandas as gpd"
   ]
  },
  {
   "cell_type": "markdown",
   "metadata": {},
   "source": [
    "# Regional Analysis"
   ]
  },
  {
   "cell_type": "markdown",
   "metadata": {},
   "source": [
    "## Total Production"
   ]
  },
  {
   "cell_type": "code",
   "execution_count": null,
   "metadata": {},
   "outputs": [],
   "source": [
    "db_name = 'field_crops.db'\n",
    "table = 'midwest_key_field_crops_cleaned'\n",
    "\n",
    "query = f\"\"\"\n",
    "Select \n",
    "    commodity_desc,\n",
    "    year, \n",
    "    sum(value) as total_prod\n",
    "from {table} \n",
    "where short_desc != 'CORN, SILAGE - PRODUCTION, MEASURED IN TONS'\n",
    "group by \n",
    "    commodity_desc, year\n",
    "\"\"\"\n",
    "\n",
    "conn = sqlite3.connect(db_name) \n",
    "result = pd.read_sql(query, conn)\n",
    "\n",
    "# Create the Altair line chart\n",
    "chart = alt.Chart(result).mark_area().encode(\n",
    "    x='year:O',  # Treat 'year' as an ordinal value (categorical)\n",
    "    y='total_prod:Q',\n",
    "    color='commodity_desc:N'        \n",
    "    ).properties(\n",
    "        title='Total Production in Crop Over Time',\n",
    "        width=600,\n",
    "        height=400\n",
    "    )\n",
    "chart\n"
   ]
  },
  {
   "cell_type": "markdown",
   "metadata": {},
   "source": [
    "# State Analysis\n"
   ]
  },
  {
   "cell_type": "markdown",
   "metadata": {},
   "source": [
    "## Production"
   ]
  },
  {
   "cell_type": "markdown",
   "metadata": {},
   "source": [
    "### Aggregated by State"
   ]
  },
  {
   "cell_type": "code",
   "execution_count": null,
   "metadata": {},
   "outputs": [],
   "source": [
    "db_name = 'field_crops.db'\n",
    "table = 'midwest_key_field_crops_cleaned'\n",
    "\n",
    "query = f\"\"\"\n",
    "Select \n",
    "    state_alpha,\n",
    "    year, \n",
    "    sum(value) as total_prod\n",
    "from {table} \n",
    "where short_desc != 'CORN, SILAGE - PRODUCTION, MEASURED IN TONS'\n",
    "group by \n",
    "    state_alpha, year\n",
    "\"\"\"\n",
    "\n",
    "conn = sqlite3.connect(db_name) \n",
    "result = pd.read_sql(query, conn)\n",
    "\n",
    "# Create the Altair line chart\n",
    "chart = alt.Chart(result).mark_line().encode(\n",
    "    x='year:O',  # Treat 'year' as an ordinal value (categorical)\n",
    "    y='total_prod:Q',\n",
    "    color='state_alpha:N'        \n",
    "    ).properties(\n",
    "        title='Total Production in Crop Over Time',\n",
    "        width=600,\n",
    "        height=400\n",
    "    )\n",
    "chart"
   ]
  },
  {
   "cell_type": "markdown",
   "metadata": {},
   "source": [
    "## Area Planted"
   ]
  },
  {
   "cell_type": "markdown",
   "metadata": {},
   "source": [
    "### total area planted aggregated by state"
   ]
  },
  {
   "cell_type": "markdown",
   "metadata": {},
   "source": [
    "### Land Usage Change by state"
   ]
  },
  {
   "cell_type": "code",
   "execution_count": null,
   "metadata": {},
   "outputs": [],
   "source": [
    "db_name = 'field_crops.db'\n",
    "table = 'midwest_area_planted_cleaned'\n",
    "\n",
    "query = f\"\"\"\n",
    "Select \n",
    "    avg(value) AS Value_20,\n",
    "    commodity_desc,\n",
    "    state_alpha\n",
    "from {table} \n",
    "where asd_code != 99\n",
    "and county_ansi != \"\"\n",
    "and year between 2015 and 2020\n",
    "group by state_alpha, commodity_desc\n",
    "\"\"\"\n",
    "conn = sqlite3.connect(db_name) \n",
    "avg_area_2015_2020 = pd.read_sql(query, conn)\n",
    "\n",
    "query = f\"\"\"\n",
    "Select \n",
    "    avg(value) AS Value_70,\n",
    "    commodity_desc,\n",
    "    state_alpha\n",
    "from {table} \n",
    "where asd_code != 99\n",
    "and county_ansi != \"\"\n",
    "and year between 1975 and 1980\n",
    "group by state_alpha, commodity_desc\n",
    "\"\"\"\n",
    "avg_area_1965_1970 = pd.read_sql(query, conn)\n",
    "\n",
    "prod_change = pd.merge(avg_area_2015_2020, avg_area_1965_1970, on=[\"commodity_desc\", \"state_alpha\"])\n",
    "prod_change[\"perc_change_in_area_planted\"] = ((prod_change['Value_20'] -  prod_change['Value_70']) / prod_change['Value_70'])*100\n",
    "\n",
    "\n",
    "chart = alt.Chart(prod_change).mark_bar().encode(\n",
    "    #x=alt.X('state_alpha:O', title='Category'),\n",
    "    y=alt.Y('perc_change_in_area_planted:Q', title='Percentage Change in Area Planted'),\n",
    "    color='commodity_desc:N',\n",
    "    column='state_alpha:N'  # Separate columns for each state\n",
    ").properties(\n",
    "    title='Stacked Bar Chart by State'\n",
    ").configure_title(\n",
    "    fontSize=20,\n",
    "    anchor='start'\n",
    ")\n",
    "chart = alt.Chart(prod_change).mark_bar().encode(\n",
    "    x=alt.X('state_alpha:O', title='Category'),  # Categories on x-axis\n",
    "    y=alt.Y('perc_change_in_area_planted:Q', title='Percentage Change in Area Planted'),  # Values on y-axis\n",
    "    color='commodity_desc:N',  # Color by state\n",
    "    xOffset='commodity_desc:N'  # Offset bars by state to group them within each category\n",
    ").properties(\n",
    "    title='Grouped Bar Chart by State'\n",
    ").configure_title(\n",
    "    fontSize=20,\n",
    "    anchor='start'\n",
    ")\n",
    "\n",
    "chart"
   ]
  },
  {
   "cell_type": "markdown",
   "metadata": {},
   "source": [
    "# County Level\n"
   ]
  },
  {
   "cell_type": "code",
   "execution_count": null,
   "metadata": {},
   "outputs": [],
   "source": [
    "from vega_datasets import data\n",
    "\n",
    "# Load U.S. states and counties\n",
    "states = data.us_10m.url  # URL for U.S. states\n",
    "counties = data.us_10m.url  # URL for U.S. counties\n",
    "print(states)\n",
    "print(counties)"
   ]
  },
  {
   "cell_type": "code",
   "execution_count": null,
   "metadata": {},
   "outputs": [],
   "source": [
    "states_gdf = gpd.read_file(states)\n",
    "counties_gdf = gpd.read_file(counties)"
   ]
  },
  {
   "cell_type": "markdown",
   "metadata": {},
   "source": [
    "## Total Land Usage "
   ]
  },
  {
   "cell_type": "markdown",
   "metadata": {},
   "source": [
    "### Point in Time (5 year average from 2015 - 2020) map"
   ]
  },
  {
   "cell_type": "code",
   "execution_count": null,
   "metadata": {},
   "outputs": [],
   "source": [
    "db_name = 'field_crops.db'\n",
    "table = 'midwest_area_planted_cleaned'\n",
    "\n",
    "query = f\"\"\"\n",
    "Select \n",
    "    value,\n",
    "    commodity_desc,\n",
    "    state_ansi|| county_ansi as id\n",
    "from {table} \n",
    "where year = 2020\n",
    "and asd_code != 99\n",
    "\n",
    "\"\"\"\n",
    "conn = sqlite3.connect(db_name) \n",
    "result = pd.read_sql(query, conn)\n",
    "\n",
    "# Merge the result DataFrame with the GeoDataFrame\n",
    "merged = gpd.GeoDataFrame(pd.merge(result, counties_gdf, on='id', how='left'))\n",
    "\n",
    "# Set the geometry for the GeoDataFrame\n",
    "merged.set_geometry('geometry', inplace=True)\n",
    "\n",
    "\n",
    "query = f\"\"\"\n",
    "Select \n",
    "    distinct\n",
    "    state_ansi\n",
    "from {table} \n",
    "\"\"\"\n",
    "conn = sqlite3.connect(db_name) \n",
    "check = pd.read_sql(query, conn)\n",
    "state_ansi_list = check.iloc[:,0].to_list()\n",
    "midwest_counties_gdf = counties_gdf[counties_gdf['id'].str[:2].isin(state_ansi_list)]\n",
    "midwest_counties_gdf = counties_gdf[\n",
    "    counties_gdf['id'].str[:2].isin(state_ansi_list) &  # Check if first 2 characters are in the state ANSI list\n",
    "    (counties_gdf['id'].str.len() == 5)  # Ensure 'id' has exactly 5 characters\n",
    "]\n",
    "\n",
    "crop_list = [ 'CORN', 'SOYBEANS', 'WHEAT']\n",
    "\n",
    "for crop in crop_list:\n",
    "    crop_df = merged[merged['commodity_desc']== crop]\n",
    "\n",
    "    # Define the background chart with a gray fill and black stroke for county borders\n",
    "    county_map_background = alt.Chart(midwest_counties_gdf).mark_geoshape(\n",
    "        fill='lightgray',  # Background color\n",
    "        stroke='black',    # Outline color for counties\n",
    "        strokeWidth=0.5    # Thickness of county borders\n",
    "    ).properties(\n",
    "        width=800,\n",
    "        height=500\n",
    "    ).project('albersUsa')  # Use Albers USA projection\n",
    "\n",
    "    # Define the filled map chart\n",
    "    county_map_filled = alt.Chart(crop_df).mark_geoshape(\n",
    "        stroke='black',   # Outline color for counties\n",
    "        strokeWidth=0.5   # Thickness of county borders\n",
    "    ).encode(\n",
    "        color=alt.Color('Value:Q', scale=alt.Scale(scheme='blues')),  # Sequential color scale for the 'value' column\n",
    "        tooltip=['id:N', 'Value:Q']  # Tooltip with county ID and value\n",
    "    ).properties(\n",
    "        title=f'Map of Area Planted for {crop}',\n",
    "        width=800,\n",
    "        height=500\n",
    "    ).project('albersUsa')  # Use Albers USA projection\n",
    "\n",
    "    # Layer the filled map on top of the gray background\n",
    "    layered_map = county_map_background + county_map_filled\n",
    "\n",
    "    # Display the chart\n",
    "    layered_map.show()\n"
   ]
  },
  {
   "cell_type": "code",
   "execution_count": null,
   "metadata": {},
   "outputs": [],
   "source": [
    "db_name = 'field_crops.db'\n",
    "table = 'midwest_key_field_crops_cleaned'\n",
    "\n",
    "query = f\"\"\"\n",
    "Select \n",
    "    avg(value) AS Value,\n",
    "    commodity_desc,\n",
    "    state_ansi|| county_ansi as id\n",
    "from {table} \n",
    "where asd_code != 99\n",
    "and year between 2015 and 2020\n",
    "group by state_ansi|| county_ansi, commodity_desc\n",
    "\n",
    "\n",
    "\"\"\"\n",
    "conn = sqlite3.connect(db_name) \n",
    "result = pd.read_sql(query, conn)\n",
    "\n",
    "query = f\"\"\"\n",
    "Select \n",
    "    distinct\n",
    "    state_ansi\n",
    "from {table} \n",
    "\"\"\"\n",
    "conn = sqlite3.connect(db_name) \n",
    "check = pd.read_sql(query, conn)\n",
    "counties_gdf = gpd.read_file(counties)\n",
    "state_ansi_list = check.iloc[:,0].to_list()\n",
    "counties_gdf = counties_gdf[counties_gdf['id'].str.len() == 5]\n",
    "midwest_counties_gdf = counties_gdf[counties_gdf['id'].str[:2].isin(state_ansi_list)]\n",
    "\n",
    "# Get the centroid of each polygon\n",
    "midwest_counties_gdf['centroid'] = midwest_counties_gdf['geometry'].centroid\n",
    "\n",
    "# Extract longitude (x) and latitude (y) from the centroid\n",
    "midwest_counties_gdf['longitude'] = midwest_counties_gdf['centroid'].x\n",
    "midwest_counties_gdf['latitude'] = midwest_counties_gdf['centroid'].y\n",
    "\n",
    "\n",
    "# Merge the result DataFrame with the GeoDataFrame\n",
    "merged = gpd.GeoDataFrame(pd.merge(result, midwest_counties_gdf, on='id', how='inner'))\n",
    "\n",
    "# Set the geometry for the GeoDataFrame\n",
    "merged.set_geometry('geometry', inplace=True)\n",
    "\n",
    "heatmap_df = merged[['longitude', 'latitude', 'Value']]\n",
    "heatmap = (\n",
    "    alt.Chart(heatmap_df)\n",
    "    .mark_rect()\n",
    "    .encode(\n",
    "        x=alt.X('longitude:Q', bin=alt.Bin(maxbins=30), title='Longitude'),\n",
    "        y=alt.Y('latitude:Q', bin=alt.Bin(maxbins=30), title='Latitude'),\n",
    "        color=alt.Color('sum(Value):Q', scale=alt.Scale(scheme='viridis'), title='Value'),\n",
    "        tooltip=['longitude:Q', 'latitude:Q', 'sum(Value):Q']\n",
    "    )\n",
    "    .properties(\n",
    "        width=600,\n",
    "        height=400,\n",
    "        title='Heat Map of Values by Longitude and Latitude'\n",
    "    )\n",
    ")\n",
    "\n",
    "heatmap.display()\n"
   ]
  }
 ],
 "metadata": {
  "kernelspec": {
   "display_name": "ag-data-viz-5d2VArwu-py3.12",
   "language": "python",
   "name": "python3"
  },
  "language_info": {
   "codemirror_mode": {
    "name": "ipython",
    "version": 3
   },
   "file_extension": ".py",
   "mimetype": "text/x-python",
   "name": "python",
   "nbconvert_exporter": "python",
   "pygments_lexer": "ipython3",
   "version": "3.12.0"
  }
 },
 "nbformat": 4,
 "nbformat_minor": 2
}
