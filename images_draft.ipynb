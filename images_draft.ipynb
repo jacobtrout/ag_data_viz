{
 "cells": [
  {
   "cell_type": "code",
   "execution_count": 1,
   "metadata": {},
   "outputs": [],
   "source": [
    "import pandas as pd\n",
    "import sqlite3\n",
    "import altair as alt"
   ]
  },
  {
   "cell_type": "markdown",
   "metadata": {},
   "source": [
    "# Regional Analysis"
   ]
  },
  {
   "cell_type": "markdown",
   "metadata": {},
   "source": [
    "## Total Production"
   ]
  },
  {
   "cell_type": "code",
   "execution_count": 8,
   "metadata": {},
   "outputs": [
    {
     "data": {
      "text/html": [
       "\n",
       "<style>\n",
       "  #altair-viz-744218f7f21e43de82a4c8e5e9f01d26.vega-embed {\n",
       "    width: 100%;\n",
       "    display: flex;\n",
       "  }\n",
       "\n",
       "  #altair-viz-744218f7f21e43de82a4c8e5e9f01d26.vega-embed details,\n",
       "  #altair-viz-744218f7f21e43de82a4c8e5e9f01d26.vega-embed details summary {\n",
       "    position: relative;\n",
       "  }\n",
       "</style>\n",
       "<div id=\"altair-viz-744218f7f21e43de82a4c8e5e9f01d26\"></div>\n",
       "<script type=\"text/javascript\">\n",
       "  var VEGA_DEBUG = (typeof VEGA_DEBUG == \"undefined\") ? {} : VEGA_DEBUG;\n",
       "  (function(spec, embedOpt){\n",
       "    let outputDiv = document.currentScript.previousElementSibling;\n",
       "    if (outputDiv.id !== \"altair-viz-744218f7f21e43de82a4c8e5e9f01d26\") {\n",
       "      outputDiv = document.getElementById(\"altair-viz-744218f7f21e43de82a4c8e5e9f01d26\");\n",
       "    }\n",
       "    const paths = {\n",
       "      \"vega\": \"https://cdn.jsdelivr.net/npm/vega@5?noext\",\n",
       "      \"vega-lib\": \"https://cdn.jsdelivr.net/npm/vega-lib?noext\",\n",
       "      \"vega-lite\": \"https://cdn.jsdelivr.net/npm/vega-lite@5.20.1?noext\",\n",
       "      \"vega-embed\": \"https://cdn.jsdelivr.net/npm/vega-embed@6?noext\",\n",
       "    };\n",
       "\n",
       "    function maybeLoadScript(lib, version) {\n",
       "      var key = `${lib.replace(\"-\", \"\")}_version`;\n",
       "      return (VEGA_DEBUG[key] == version) ?\n",
       "        Promise.resolve(paths[lib]) :\n",
       "        new Promise(function(resolve, reject) {\n",
       "          var s = document.createElement('script');\n",
       "          document.getElementsByTagName(\"head\")[0].appendChild(s);\n",
       "          s.async = true;\n",
       "          s.onload = () => {\n",
       "            VEGA_DEBUG[key] = version;\n",
       "            return resolve(paths[lib]);\n",
       "          };\n",
       "          s.onerror = () => reject(`Error loading script: ${paths[lib]}`);\n",
       "          s.src = paths[lib];\n",
       "        });\n",
       "    }\n",
       "\n",
       "    function showError(err) {\n",
       "      outputDiv.innerHTML = `<div class=\"error\" style=\"color:red;\">${err}</div>`;\n",
       "      throw err;\n",
       "    }\n",
       "\n",
       "    function displayChart(vegaEmbed) {\n",
       "      vegaEmbed(outputDiv, spec, embedOpt)\n",
       "        .catch(err => showError(`Javascript Error: ${err.message}<br>This usually means there's a typo in your chart specification. See the javascript console for the full traceback.`));\n",
       "    }\n",
       "\n",
       "    if(typeof define === \"function\" && define.amd) {\n",
       "      requirejs.config({paths});\n",
       "      require([\"vega-embed\"], displayChart, err => showError(`Error loading script: ${err.message}`));\n",
       "    } else {\n",
       "      maybeLoadScript(\"vega\", \"5\")\n",
       "        .then(() => maybeLoadScript(\"vega-lite\", \"5.20.1\"))\n",
       "        .then(() => maybeLoadScript(\"vega-embed\", \"6\"))\n",
       "        .catch(showError)\n",
       "        .then(() => displayChart(vegaEmbed));\n",
       "    }\n",
       "  })({\"config\": {\"view\": {\"continuousWidth\": 300, \"continuousHeight\": 300}}, \"data\": {\"name\": \"data-347c31ccad04acaae150b4a77d99615f\"}, \"mark\": {\"type\": \"area\"}, \"encoding\": {\"color\": {\"field\": \"commodity_desc\", \"type\": \"nominal\"}, \"x\": {\"field\": \"year\", \"type\": \"ordinal\"}, \"y\": {\"field\": \"total_prod\", \"type\": \"quantitative\"}}, \"height\": 400, \"title\": \"Total Production in Crop Over Time\", \"width\": 600, \"$schema\": \"https://vega.github.io/schema/vega-lite/v5.20.1.json\", \"datasets\": {\"data-347c31ccad04acaae150b4a77d99615f\": [{\"commodity_desc\": \"CORN\", \"year\": 1960, \"total_prod\": 3297219000.0}, {\"commodity_desc\": \"CORN\", \"year\": 1961, \"total_prod\": 3028694000.0}, {\"commodity_desc\": \"CORN\", \"year\": 1962, \"total_prod\": 3106396000.0}, {\"commodity_desc\": \"CORN\", \"year\": 1963, \"total_prod\": 3482673000.0}, {\"commodity_desc\": \"CORN\", \"year\": 1964, \"total_prod\": 2977117000.0}, {\"commodity_desc\": \"CORN\", \"year\": 1965, \"total_prod\": 3506317000.0}, {\"commodity_desc\": \"CORN\", \"year\": 1966, \"total_prod\": 3676835000.0}, {\"commodity_desc\": \"CORN\", \"year\": 1967, \"total_prod\": 4124404000.0}, {\"commodity_desc\": \"CORN\", \"year\": 1968, \"total_prod\": 3877629000.0}, {\"commodity_desc\": \"CORN\", \"year\": 1969, \"total_prod\": 4088853000.0}, {\"commodity_desc\": \"CORN\", \"year\": 1970, \"total_prod\": 3603889000.0}, {\"commodity_desc\": \"CORN\", \"year\": 1971, \"total_prod\": 4923528000.0}, {\"commodity_desc\": \"CORN\", \"year\": 1972, \"total_prod\": 4896110000.0}, {\"commodity_desc\": \"CORN\", \"year\": 1973, \"total_prod\": 4893425000.0}, {\"commodity_desc\": \"CORN\", \"year\": 1974, \"total_prod\": 3840720000.0}, {\"commodity_desc\": \"CORN\", \"year\": 1975, \"total_prod\": 4920620000.0}, {\"commodity_desc\": \"CORN\", \"year\": 1976, \"total_prod\": 5052860000.0}, {\"commodity_desc\": \"CORN\", \"year\": 1977, \"total_prod\": 5575930000.0}, {\"commodity_desc\": \"CORN\", \"year\": 1978, \"total_prod\": 6215530000.0}, {\"commodity_desc\": \"CORN\", \"year\": 1979, \"total_prod\": 6789518000.0}, {\"commodity_desc\": \"CORN\", \"year\": 1980, \"total_prod\": 5735080000.0}, {\"commodity_desc\": \"CORN\", \"year\": 1981, \"total_prod\": 6926053000.0}, {\"commodity_desc\": \"CORN\", \"year\": 1982, \"total_prod\": 7027230000.0}, {\"commodity_desc\": \"CORN\", \"year\": 1983, \"total_prod\": 3451135000.0}, {\"commodity_desc\": \"CORN\", \"year\": 1984, \"total_prod\": 6419145000.0}, {\"commodity_desc\": \"CORN\", \"year\": 1985, \"total_prod\": 7550930000.0}, {\"commodity_desc\": \"CORN\", \"year\": 1986, \"total_prod\": 7145730000.0}, {\"commodity_desc\": \"CORN\", \"year\": 1987, \"total_prod\": 6165960000.0}, {\"commodity_desc\": \"CORN\", \"year\": 1988, \"total_prod\": 4129760000.0}, {\"commodity_desc\": \"CORN\", \"year\": 1989, \"total_prod\": 6488935000.0}, {\"commodity_desc\": \"CORN\", \"year\": 1990, \"total_prod\": 6957850000.0}, {\"commodity_desc\": \"CORN\", \"year\": 1991, \"total_prod\": 6497250000.0}, {\"commodity_desc\": \"CORN\", \"year\": 1992, \"total_prod\": 8188380000.0}, {\"commodity_desc\": \"CORN\", \"year\": 1993, \"total_prod\": 5362075000.0}, {\"commodity_desc\": \"CORN\", \"year\": 1994, \"total_prod\": 8788750000.0}, {\"commodity_desc\": \"CORN\", \"year\": 1995, \"total_prod\": 6342660000.0}, {\"commodity_desc\": \"CORN\", \"year\": 1996, \"total_prod\": 7871310000.0}, {\"commodity_desc\": \"CORN\", \"year\": 1997, \"total_prod\": 7944720000.0}, {\"commodity_desc\": \"CORN\", \"year\": 1998, \"total_prod\": 8599715000.0}, {\"commodity_desc\": \"CORN\", \"year\": 1999, \"total_prod\": 8317005000.0}, {\"commodity_desc\": \"CORN\", \"year\": 2000, \"total_prod\": 8613270000.0}, {\"commodity_desc\": \"CORN\", \"year\": 2001, \"total_prod\": 8295355000.0}, {\"commodity_desc\": \"CORN\", \"year\": 2002, \"total_prod\": 7924480000.0}, {\"commodity_desc\": \"CORN\", \"year\": 2003, \"total_prod\": 8829740000.0}, {\"commodity_desc\": \"CORN\", \"year\": 2004, \"total_prod\": 10363160000.0}, {\"commodity_desc\": \"CORN\", \"year\": 2005, \"total_prod\": 9823980000.0}, {\"commodity_desc\": \"CORN\", \"year\": 2006, \"total_prod\": 9326430000.0}, {\"commodity_desc\": \"CORN\", \"year\": 2007, \"total_prod\": 11310060600.0}, {\"commodity_desc\": \"CORN\", \"year\": 2008, \"total_prod\": 10583925000.0}, {\"commodity_desc\": \"CORN\", \"year\": 2009, \"total_prod\": 11464335000.0}, {\"commodity_desc\": \"CORN\", \"year\": 2010, \"total_prod\": 10858410000.0}, {\"commodity_desc\": \"CORN\", \"year\": 2011, \"total_prod\": 10868472000.0}, {\"commodity_desc\": \"CORN\", \"year\": 2012, \"total_prod\": 9152038000.0}, {\"commodity_desc\": \"CORN\", \"year\": 2013, \"total_prod\": 11749120000.0}, {\"commodity_desc\": \"CORN\", \"year\": 2014, \"total_prod\": 12329369000.0}, {\"commodity_desc\": \"CORN\", \"year\": 2015, \"total_prod\": 11927350000.0}, {\"commodity_desc\": \"CORN\", \"year\": 2016, \"total_prod\": 13205941000.0}, {\"commodity_desc\": \"CORN\", \"year\": 2017, \"total_prod\": 12687181000.0}, {\"commodity_desc\": \"CORN\", \"year\": 2018, \"total_prod\": 12648031000.0}, {\"commodity_desc\": \"CORN\", \"year\": 2019, \"total_prod\": 11577961000.0}, {\"commodity_desc\": \"CORN\", \"year\": 2020, \"total_prod\": 12257290000.0}, {\"commodity_desc\": \"CORN\", \"year\": 2021, \"total_prod\": 12934940000.0}, {\"commodity_desc\": \"CORN\", \"year\": 2022, \"total_prod\": 12104860000.0}, {\"commodity_desc\": \"CORN\", \"year\": 2023, \"total_prod\": 13263000000.0}, {\"commodity_desc\": \"SOYBEANS\", \"year\": 1960, \"total_prod\": 415899600.0}, {\"commodity_desc\": \"SOYBEANS\", \"year\": 1961, \"total_prod\": 530781200.0}, {\"commodity_desc\": \"SOYBEANS\", \"year\": 1962, \"total_prod\": 513920000.0}, {\"commodity_desc\": \"SOYBEANS\", \"year\": 1963, \"total_prod\": 546428000.0}, {\"commodity_desc\": \"SOYBEANS\", \"year\": 1964, \"total_prod\": 525516000.0}, {\"commodity_desc\": \"SOYBEANS\", \"year\": 1965, \"total_prod\": 629162000.0}, {\"commodity_desc\": \"SOYBEANS\", \"year\": 1966, \"total_prod\": 674729000.0}, {\"commodity_desc\": \"SOYBEANS\", \"year\": 1967, \"total_prod\": 656800000.0}, {\"commodity_desc\": \"SOYBEANS\", \"year\": 1968, \"total_prod\": 803063200.0}, {\"commodity_desc\": \"SOYBEANS\", \"year\": 1969, \"total_prod\": 809479450.0}, {\"commodity_desc\": \"SOYBEANS\", \"year\": 1970, \"total_prod\": 795931900.0}, {\"commodity_desc\": \"SOYBEANS\", \"year\": 1971, \"total_prod\": 821867500.0}, {\"commodity_desc\": \"SOYBEANS\", \"year\": 1972, \"total_prod\": 939342000.0}, {\"commodity_desc\": \"SOYBEANS\", \"year\": 1973, \"total_prod\": 1125669000.0}, {\"commodity_desc\": \"SOYBEANS\", \"year\": 1974, \"total_prod\": 836034500.0}, {\"commodity_desc\": \"SOYBEANS\", \"year\": 1975, \"total_prod\": 1060231000.0}, {\"commodity_desc\": \"SOYBEANS\", \"year\": 1976, \"total_prod\": 860358000.0}, {\"commodity_desc\": \"SOYBEANS\", \"year\": 1977, \"total_prod\": 1248941400.0}, {\"commodity_desc\": \"SOYBEANS\", \"year\": 1978, \"total_prod\": 1280197800.0}, {\"commodity_desc\": \"SOYBEANS\", \"year\": 1979, \"total_prod\": 1496262300.0}, {\"commodity_desc\": \"SOYBEANS\", \"year\": 1980, \"total_prod\": 1353487900.0}, {\"commodity_desc\": \"SOYBEANS\", \"year\": 1981, \"total_prod\": 1405741000.0}, {\"commodity_desc\": \"SOYBEANS\", \"year\": 1982, \"total_prod\": 1514409000.0}, {\"commodity_desc\": \"SOYBEANS\", \"year\": 1983, \"total_prod\": 1199123000.0}, {\"commodity_desc\": \"SOYBEANS\", \"year\": 1984, \"total_prod\": 1306464200.0}, {\"commodity_desc\": \"SOYBEANS\", \"year\": 1985, \"total_prod\": 1604528000.0}, {\"commodity_desc\": \"SOYBEANS\", \"year\": 1986, \"total_prod\": 1596652000.0}, {\"commodity_desc\": \"SOYBEANS\", \"year\": 1987, \"total_prod\": 1595879000.0}, {\"commodity_desc\": \"SOYBEANS\", \"year\": 1988, \"total_prod\": 1153090500.0}, {\"commodity_desc\": \"SOYBEANS\", \"year\": 1989, \"total_prod\": 1523808500.0}, {\"commodity_desc\": \"SOYBEANS\", \"year\": 1990, \"total_prod\": 1549490700.0}, {\"commodity_desc\": \"SOYBEANS\", \"year\": 1991, \"total_prod\": 1608024000.0}, {\"commodity_desc\": \"SOYBEANS\", \"year\": 1992, \"total_prod\": 1762435600.0}, {\"commodity_desc\": \"SOYBEANS\", \"year\": 1993, \"total_prod\": 1523614300.0}, {\"commodity_desc\": \"SOYBEANS\", \"year\": 1994, \"total_prod\": 2069162200.0}, {\"commodity_desc\": \"SOYBEANS\", \"year\": 1995, \"total_prod\": 1842957100.0}, {\"commodity_desc\": \"SOYBEANS\", \"year\": 1996, \"total_prod\": 1953103900.0}, {\"commodity_desc\": \"SOYBEANS\", \"year\": 1997, \"total_prod\": 2251324800.0}, {\"commodity_desc\": \"SOYBEANS\", \"year\": 1998, \"total_prod\": 2385579100.0}, {\"commodity_desc\": \"SOYBEANS\", \"year\": 1999, \"total_prod\": 2329254900.0}, {\"commodity_desc\": \"SOYBEANS\", \"year\": 2000, \"total_prod\": 2399864600.0}, {\"commodity_desc\": \"SOYBEANS\", \"year\": 2001, \"total_prod\": 2518414800.0}, {\"commodity_desc\": \"SOYBEANS\", \"year\": 2002, \"total_prod\": 2415903000.0}, {\"commodity_desc\": \"SOYBEANS\", \"year\": 2003, \"total_prod\": 2020400000.0}, {\"commodity_desc\": \"SOYBEANS\", \"year\": 2004, \"total_prod\": 2620675000.0}, {\"commodity_desc\": \"SOYBEANS\", \"year\": 2005, \"total_prod\": 2648095000.0}, {\"commodity_desc\": \"SOYBEANS\", \"year\": 2006, \"total_prod\": 2775885000.0}, {\"commodity_desc\": \"SOYBEANS\", \"year\": 2007, \"total_prod\": 2324894700.0}, {\"commodity_desc\": \"SOYBEANS\", \"year\": 2008, \"total_prod\": 2450632500.0}, {\"commodity_desc\": \"SOYBEANS\", \"year\": 2009, \"total_prod\": 2772098000.0}, {\"commodity_desc\": \"SOYBEANS\", \"year\": 2010, \"total_prod\": 2853881000.0}, {\"commodity_desc\": \"SOYBEANS\", \"year\": 2011, \"total_prod\": 2612161000.0}, {\"commodity_desc\": \"SOYBEANS\", \"year\": 2012, \"total_prod\": 2453147000.0}, {\"commodity_desc\": \"SOYBEANS\", \"year\": 2013, \"total_prod\": 2719140000.0}, {\"commodity_desc\": \"SOYBEANS\", \"year\": 2014, \"total_prod\": 3180050000.0}, {\"commodity_desc\": \"SOYBEANS\", \"year\": 2015, \"total_prod\": 3229636000.0}, {\"commodity_desc\": \"SOYBEANS\", \"year\": 2016, \"total_prod\": 3625770000.0}, {\"commodity_desc\": \"SOYBEANS\", \"year\": 2017, \"total_prod\": 3608039000.0}, {\"commodity_desc\": \"SOYBEANS\", \"year\": 2018, \"total_prod\": 3687221000.0}, {\"commodity_desc\": \"SOYBEANS\", \"year\": 2019, \"total_prod\": 2963933000.0}, {\"commodity_desc\": \"SOYBEANS\", \"year\": 2020, \"total_prod\": 3517710000.0}, {\"commodity_desc\": \"SOYBEANS\", \"year\": 2021, \"total_prod\": 3727280000.0}, {\"commodity_desc\": \"SOYBEANS\", \"year\": 2022, \"total_prod\": 3544630000.0}, {\"commodity_desc\": \"SOYBEANS\", \"year\": 2023, \"total_prod\": 3456710000.0}, {\"commodity_desc\": \"WHEAT\", \"year\": 1960, \"total_prod\": 787749900.0}, {\"commodity_desc\": \"WHEAT\", \"year\": 1961, \"total_prod\": 710938100.0}, {\"commodity_desc\": \"WHEAT\", \"year\": 1962, \"total_prod\": 656512800.0}, {\"commodity_desc\": \"WHEAT\", \"year\": 1963, \"total_prod\": 683441000.0}, {\"commodity_desc\": \"WHEAT\", \"year\": 1964, \"total_prod\": 739202000.0}, {\"commodity_desc\": \"WHEAT\", \"year\": 1965, \"total_prod\": 721137000.0}, {\"commodity_desc\": \"WHEAT\", \"year\": 1966, \"total_prod\": 736352000.0}, {\"commodity_desc\": \"WHEAT\", \"year\": 1967, \"total_prod\": 859958000.0}, {\"commodity_desc\": \"WHEAT\", \"year\": 1968, \"total_prod\": 867371000.0}, {\"commodity_desc\": \"WHEAT\", \"year\": 1969, \"total_prod\": 839127000.0}, {\"commodity_desc\": \"WHEAT\", \"year\": 1970, \"total_prod\": 758768000.0}, {\"commodity_desc\": \"WHEAT\", \"year\": 1971, \"total_prod\": 1001063000.0}, {\"commodity_desc\": \"WHEAT\", \"year\": 1972, \"total_prod\": 927840000.0}, {\"commodity_desc\": \"WHEAT\", \"year\": 1973, \"total_prod\": 995011000.0}, {\"commodity_desc\": \"WHEAT\", \"year\": 1974, \"total_prod\": 1001091440.0}, {\"commodity_desc\": \"WHEAT\", \"year\": 1975, \"total_prod\": 1154720000.0}, {\"commodity_desc\": \"WHEAT\", \"year\": 1976, \"total_prod\": 1182950000.0}, {\"commodity_desc\": \"WHEAT\", \"year\": 1977, \"total_prod\": 1189805200.0}, {\"commodity_desc\": \"WHEAT\", \"year\": 1978, \"total_prod\": 979225000.0}, {\"commodity_desc\": \"WHEAT\", \"year\": 1979, \"total_prod\": 1167691000.0}, {\"commodity_desc\": \"WHEAT\", \"year\": 1980, \"total_prod\": 1202962000.0}, {\"commodity_desc\": \"WHEAT\", \"year\": 1981, \"total_prod\": 1359248000.0}, {\"commodity_desc\": \"WHEAT\", \"year\": 1982, \"total_prod\": 1378890000.0}, {\"commodity_desc\": \"WHEAT\", \"year\": 1983, \"total_prod\": 1196371000.0}, {\"commodity_desc\": \"WHEAT\", \"year\": 1984, \"total_prod\": 1353129000.0}, {\"commodity_desc\": \"WHEAT\", \"year\": 1985, \"total_prod\": 1341642000.0}, {\"commodity_desc\": \"WHEAT\", \"year\": 1986, \"total_prod\": 1090856000.0}, {\"commodity_desc\": \"WHEAT\", \"year\": 1987, \"total_prod\": 1130593300.0}, {\"commodity_desc\": \"WHEAT\", \"year\": 1988, \"total_prod\": 844993000.0}, {\"commodity_desc\": \"WHEAT\", \"year\": 1989, \"total_prod\": 1050004000.0}, {\"commodity_desc\": \"WHEAT\", \"year\": 1990, \"total_prod\": 1555494000.0}, {\"commodity_desc\": \"WHEAT\", \"year\": 1991, \"total_prod\": 1103515600.0}, {\"commodity_desc\": \"WHEAT\", \"year\": 1992, \"total_prod\": 1402050800.0}, {\"commodity_desc\": \"WHEAT\", \"year\": 1993, \"total_prod\": 1217468300.0}, {\"commodity_desc\": \"WHEAT\", \"year\": 1994, \"total_prod\": 1276055600.0}, {\"commodity_desc\": \"WHEAT\", \"year\": 1995, \"total_prod\": 1110822700.0}, {\"commodity_desc\": \"WHEAT\", \"year\": 1996, \"total_prod\": 1169484100.0}, {\"commodity_desc\": \"WHEAT\", \"year\": 1997, \"total_prod\": 1287857900.0}, {\"commodity_desc\": \"WHEAT\", \"year\": 1998, \"total_prod\": 1351456100.0}, {\"commodity_desc\": \"WHEAT\", \"year\": 1999, \"total_prod\": 1213219200.0}, {\"commodity_desc\": \"WHEAT\", \"year\": 2000, \"total_prod\": 1197396300.0}, {\"commodity_desc\": \"WHEAT\", \"year\": 2001, \"total_prod\": 1050204100.0}, {\"commodity_desc\": \"WHEAT\", \"year\": 2002, \"total_prod\": 816161900.0}, {\"commodity_desc\": \"WHEAT\", \"year\": 2003, \"total_prod\": 1365817100.0}, {\"commodity_desc\": \"WHEAT\", \"year\": 2004, \"total_prod\": 1138866300.0}, {\"commodity_desc\": \"WHEAT\", \"year\": 2005, \"total_prod\": 1155225500.0}, {\"commodity_desc\": \"WHEAT\", \"year\": 2006, \"total_prod\": 1041676700.0}, {\"commodity_desc\": \"WHEAT\", \"year\": 2007, \"total_prod\": 1098589300.0}, {\"commodity_desc\": \"WHEAT\", \"year\": 2008, \"total_prod\": 1289506900.0}, {\"commodity_desc\": \"WHEAT\", \"year\": 2009, \"total_prod\": 1278673000.0}, {\"commodity_desc\": \"WHEAT\", \"year\": 2010, \"total_prod\": 1119200000.0}, {\"commodity_desc\": \"WHEAT\", \"year\": 2011, \"total_prod\": 942801000.0}, {\"commodity_desc\": \"WHEAT\", \"year\": 2012, \"total_prod\": 1135189700.0}, {\"commodity_desc\": \"WHEAT\", \"year\": 2013, \"total_prod\": 1006428000.0}, {\"commodity_desc\": \"WHEAT\", \"year\": 2014, \"total_prod\": 1059978500.0}, {\"commodity_desc\": \"WHEAT\", \"year\": 2015, \"total_prod\": 1085402000.0}, {\"commodity_desc\": \"WHEAT\", \"year\": 2016, \"total_prod\": 1266997000.0}, {\"commodity_desc\": \"WHEAT\", \"year\": 2017, \"total_prod\": 898235800.0}, {\"commodity_desc\": \"WHEAT\", \"year\": 2018, \"total_prod\": 1018858000.0}, {\"commodity_desc\": \"WHEAT\", \"year\": 2019, \"total_prod\": 997140000.0}, {\"commodity_desc\": \"WHEAT\", \"year\": 2020, \"total_prod\": 921997000.0}, {\"commodity_desc\": \"WHEAT\", \"year\": 2021, \"total_prod\": 911335000.0}, {\"commodity_desc\": \"WHEAT\", \"year\": 2022, \"total_prod\": 893980000.0}, {\"commodity_desc\": \"WHEAT\", \"year\": 2023, \"total_prod\": 942765000.0}]}}, {\"mode\": \"vega-lite\"});\n",
       "</script>"
      ],
      "text/plain": [
       "alt.Chart(...)"
      ]
     },
     "execution_count": 8,
     "metadata": {},
     "output_type": "execute_result"
    }
   ],
   "source": [
    "db_name = 'field_crops.db'\n",
    "table = 'midwest_key_field_crops_cleaned'\n",
    "\n",
    "query = f\"\"\"\n",
    "Select \n",
    "    commodity_desc,\n",
    "    year, \n",
    "    sum(value) as total_prod\n",
    "from {table} \n",
    "where short_desc != 'CORN, SILAGE - PRODUCTION, MEASURED IN TONS'\n",
    "group by \n",
    "    commodity_desc, year\n",
    "\"\"\"\n",
    "\n",
    "conn = sqlite3.connect(db_name) \n",
    "result = pd.read_sql(query, conn)\n",
    "\n",
    "# Create the Altair line chart\n",
    "chart = alt.Chart(result).mark_area().encode(\n",
    "    x='year:O',  # Treat 'year' as an ordinal value (categorical)\n",
    "    y='total_prod:Q',\n",
    "    color='commodity_desc:N'        \n",
    "    ).properties(\n",
    "        title='Total Production in Crop Over Time',\n",
    "        width=600,\n",
    "        height=400\n",
    "    )\n",
    "chart\n"
   ]
  },
  {
   "cell_type": "markdown",
   "metadata": {},
   "source": [
    "## Total Land Usage"
   ]
  },
  {
   "cell_type": "code",
   "execution_count": 9,
   "metadata": {},
   "outputs": [
    {
     "data": {
      "text/html": [
       "\n",
       "<style>\n",
       "  #altair-viz-7415785c698843f7a6961eee2db69042.vega-embed {\n",
       "    width: 100%;\n",
       "    display: flex;\n",
       "  }\n",
       "\n",
       "  #altair-viz-7415785c698843f7a6961eee2db69042.vega-embed details,\n",
       "  #altair-viz-7415785c698843f7a6961eee2db69042.vega-embed details summary {\n",
       "    position: relative;\n",
       "  }\n",
       "</style>\n",
       "<div id=\"altair-viz-7415785c698843f7a6961eee2db69042\"></div>\n",
       "<script type=\"text/javascript\">\n",
       "  var VEGA_DEBUG = (typeof VEGA_DEBUG == \"undefined\") ? {} : VEGA_DEBUG;\n",
       "  (function(spec, embedOpt){\n",
       "    let outputDiv = document.currentScript.previousElementSibling;\n",
       "    if (outputDiv.id !== \"altair-viz-7415785c698843f7a6961eee2db69042\") {\n",
       "      outputDiv = document.getElementById(\"altair-viz-7415785c698843f7a6961eee2db69042\");\n",
       "    }\n",
       "    const paths = {\n",
       "      \"vega\": \"https://cdn.jsdelivr.net/npm/vega@5?noext\",\n",
       "      \"vega-lib\": \"https://cdn.jsdelivr.net/npm/vega-lib?noext\",\n",
       "      \"vega-lite\": \"https://cdn.jsdelivr.net/npm/vega-lite@5.20.1?noext\",\n",
       "      \"vega-embed\": \"https://cdn.jsdelivr.net/npm/vega-embed@6?noext\",\n",
       "    };\n",
       "\n",
       "    function maybeLoadScript(lib, version) {\n",
       "      var key = `${lib.replace(\"-\", \"\")}_version`;\n",
       "      return (VEGA_DEBUG[key] == version) ?\n",
       "        Promise.resolve(paths[lib]) :\n",
       "        new Promise(function(resolve, reject) {\n",
       "          var s = document.createElement('script');\n",
       "          document.getElementsByTagName(\"head\")[0].appendChild(s);\n",
       "          s.async = true;\n",
       "          s.onload = () => {\n",
       "            VEGA_DEBUG[key] = version;\n",
       "            return resolve(paths[lib]);\n",
       "          };\n",
       "          s.onerror = () => reject(`Error loading script: ${paths[lib]}`);\n",
       "          s.src = paths[lib];\n",
       "        });\n",
       "    }\n",
       "\n",
       "    function showError(err) {\n",
       "      outputDiv.innerHTML = `<div class=\"error\" style=\"color:red;\">${err}</div>`;\n",
       "      throw err;\n",
       "    }\n",
       "\n",
       "    function displayChart(vegaEmbed) {\n",
       "      vegaEmbed(outputDiv, spec, embedOpt)\n",
       "        .catch(err => showError(`Javascript Error: ${err.message}<br>This usually means there's a typo in your chart specification. See the javascript console for the full traceback.`));\n",
       "    }\n",
       "\n",
       "    if(typeof define === \"function\" && define.amd) {\n",
       "      requirejs.config({paths});\n",
       "      require([\"vega-embed\"], displayChart, err => showError(`Error loading script: ${err.message}`));\n",
       "    } else {\n",
       "      maybeLoadScript(\"vega\", \"5\")\n",
       "        .then(() => maybeLoadScript(\"vega-lite\", \"5.20.1\"))\n",
       "        .then(() => maybeLoadScript(\"vega-embed\", \"6\"))\n",
       "        .catch(showError)\n",
       "        .then(() => displayChart(vegaEmbed));\n",
       "    }\n",
       "  })({\"config\": {\"view\": {\"continuousWidth\": 300, \"continuousHeight\": 300}}, \"data\": {\"name\": \"data-3977b4a04492b8831207434d54ad7aff\"}, \"mark\": {\"type\": \"area\"}, \"encoding\": {\"color\": {\"field\": \"commodity_desc\", \"type\": \"nominal\"}, \"x\": {\"field\": \"year\", \"type\": \"ordinal\"}, \"y\": {\"field\": \"total_prod\", \"type\": \"quantitative\"}}, \"height\": 400, \"title\": \"Total Production in Crop Over Time\", \"width\": 600, \"$schema\": \"https://vega.github.io/schema/vega-lite/v5.20.1.json\", \"datasets\": {\"data-3977b4a04492b8831207434d54ad7aff\": [{\"commodity_desc\": \"CORN\", \"year\": 1960, \"total_prod\": 36413000.0}, {\"commodity_desc\": \"CORN\", \"year\": 1961, \"total_prod\": 29138000.0}, {\"commodity_desc\": \"CORN\", \"year\": 1962, \"total_prod\": 28796000.0}, {\"commodity_desc\": \"CORN\", \"year\": 1963, \"total_prod\": 31064000.0}, {\"commodity_desc\": \"CORN\", \"year\": 1964, \"total_prod\": 28431000.0}, {\"commodity_desc\": \"CORN\", \"year\": 1965, \"total_prod\": 27786000.0}, {\"commodity_desc\": \"CORN\", \"year\": 1966, \"total_prod\": 28141000.0}, {\"commodity_desc\": \"CORN\", \"year\": 1967, \"total_prod\": 28023000.0}, {\"commodity_desc\": \"CORN\", \"year\": 1968, \"total_prod\": 25268000.0}, {\"commodity_desc\": \"CORN\", \"year\": 1969, \"total_prod\": 25428000.0}, {\"commodity_desc\": \"CORN\", \"year\": 1970, \"total_prod\": 26624000.0}, {\"commodity_desc\": \"CORN\", \"year\": 1971, \"total_prod\": 29825000.0}, {\"commodity_desc\": \"CORN\", \"year\": 1972, \"total_prod\": 53744000.0}, {\"commodity_desc\": \"CORN\", \"year\": 1973, \"total_prod\": 57794000.0}, {\"commodity_desc\": \"CORN\", \"year\": 1974, \"total_prod\": 62423000.0}, {\"commodity_desc\": \"CORN\", \"year\": 1975, \"total_prod\": 62570000.0}, {\"commodity_desc\": \"CORN\", \"year\": 1976, \"total_prod\": 66060000.0}, {\"commodity_desc\": \"CORN\", \"year\": 1977, \"total_prod\": 65350000.0}, {\"commodity_desc\": \"CORN\", \"year\": 1978, \"total_prod\": 64690000.0}, {\"commodity_desc\": \"CORN\", \"year\": 1979, \"total_prod\": 64880000.0}, {\"commodity_desc\": \"CORN\", \"year\": 1980, \"total_prod\": 66980000.0}, {\"commodity_desc\": \"CORN\", \"year\": 1981, \"total_prod\": 66920000.0}, {\"commodity_desc\": \"CORN\", \"year\": 1982, \"total_prod\": 66150000.0}, {\"commodity_desc\": \"CORN\", \"year\": 1983, \"total_prod\": 47080000.0}, {\"commodity_desc\": \"CORN\", \"year\": 1984, \"total_prod\": 64420000.0}, {\"commodity_desc\": \"CORN\", \"year\": 1985, \"total_prod\": 66930000.0}, {\"commodity_desc\": \"CORN\", \"year\": 1986, \"total_prod\": 61130000.0}, {\"commodity_desc\": \"CORN\", \"year\": 1987, \"total_prod\": 53220000.0}, {\"commodity_desc\": \"CORN\", \"year\": 1988, \"total_prod\": 55250000.0}, {\"commodity_desc\": \"CORN\", \"year\": 1989, \"total_prod\": 59650000.0}, {\"commodity_desc\": \"CORN\", \"year\": 1990, \"total_prod\": 61150000.0}, {\"commodity_desc\": \"CORN\", \"year\": 1991, \"total_prod\": 63080000.0}, {\"commodity_desc\": \"CORN\", \"year\": 1992, \"total_prod\": 65550000.0}, {\"commodity_desc\": \"CORN\", \"year\": 1993, \"total_prod\": 59980000.0}, {\"commodity_desc\": \"CORN\", \"year\": 1994, \"total_prod\": 65419900.0}, {\"commodity_desc\": \"CORN\", \"year\": 1995, \"total_prod\": 58900000.0}, {\"commodity_desc\": \"CORN\", \"year\": 1996, \"total_prod\": 64700000.0}, {\"commodity_desc\": \"CORN\", \"year\": 1997, \"total_prod\": 65380000.0}, {\"commodity_desc\": \"CORN\", \"year\": 1998, \"total_prod\": 65070000.0}, {\"commodity_desc\": \"CORN\", \"year\": 1999, \"total_prod\": 63850000.0}, {\"commodity_desc\": \"CORN\", \"year\": 2000, \"total_prod\": 65830000.0}, {\"commodity_desc\": \"CORN\", \"year\": 2001, \"total_prod\": 63230000.0}, {\"commodity_desc\": \"CORN\", \"year\": 2002, \"total_prod\": 65180000.0}, {\"commodity_desc\": \"CORN\", \"year\": 2003, \"total_prod\": 65350000.0}, {\"commodity_desc\": \"CORN\", \"year\": 2004, \"total_prod\": 67550000.0}, {\"commodity_desc\": \"CORN\", \"year\": 2005, \"total_prod\": 68710000.0}, {\"commodity_desc\": \"CORN\", \"year\": 2006, \"total_prod\": 66039900.0}, {\"commodity_desc\": \"CORN\", \"year\": 2007, \"total_prod\": 77086000.0}, {\"commodity_desc\": \"CORN\", \"year\": 2008, \"total_prod\": 71023000.0}, {\"commodity_desc\": \"CORN\", \"year\": 2009, \"total_prod\": 71454000.0}, {\"commodity_desc\": \"CORN\", \"year\": 2010, \"total_prod\": 73077500.0}, {\"commodity_desc\": \"CORN\", \"year\": 2011, \"total_prod\": 76204500.0}, {\"commodity_desc\": \"CORN\", \"year\": 2012, \"total_prod\": 81008500.0}, {\"commodity_desc\": \"CORN\", \"year\": 2013, \"total_prod\": 78378000.0}, {\"commodity_desc\": \"CORN\", \"year\": 2014, \"total_prod\": 75376500.0}, {\"commodity_desc\": \"CORN\", \"year\": 2015, \"total_prod\": 73720000.0}, {\"commodity_desc\": \"CORN\", \"year\": 2016, \"total_prod\": 77070000.0}, {\"commodity_desc\": \"CORN\", \"year\": 2017, \"total_prod\": 74808000.0}, {\"commodity_desc\": \"CORN\", \"year\": 2018, \"total_prod\": 73961000.0}, {\"commodity_desc\": \"CORN\", \"year\": 2019, \"total_prod\": 72620000.0}, {\"commodity_desc\": \"CORN\", \"year\": 2020, \"total_prod\": 74750000.0}, {\"commodity_desc\": \"CORN\", \"year\": 2021, \"total_prod\": 76950000.0}, {\"commodity_desc\": \"CORN\", \"year\": 2022, \"total_prod\": 73700000.0}, {\"commodity_desc\": \"CORN\", \"year\": 2023, \"total_prod\": 78250000.0}, {\"commodity_desc\": \"SOYBEANS\", \"year\": 1960, \"total_prod\": 979400.0}, {\"commodity_desc\": \"SOYBEANS\", \"year\": 1961, \"total_prod\": 1165900.0}, {\"commodity_desc\": \"SOYBEANS\", \"year\": 1962, \"total_prod\": 1242000.0}, {\"commodity_desc\": \"SOYBEANS\", \"year\": 1963, \"total_prod\": 1280000.0}, {\"commodity_desc\": \"SOYBEANS\", \"year\": 1964, \"total_prod\": 1247000.0}, {\"commodity_desc\": \"SOYBEANS\", \"year\": 1965, \"total_prod\": 1607000.0}, {\"commodity_desc\": \"SOYBEANS\", \"year\": 1966, \"total_prod\": 1711000.0}, {\"commodity_desc\": \"SOYBEANS\", \"year\": 1967, \"total_prod\": 1523000.0}, {\"commodity_desc\": \"SOYBEANS\", \"year\": 1968, \"total_prod\": 1496100.0}, {\"commodity_desc\": \"SOYBEANS\", \"year\": 1969, \"total_prod\": 1322800.0}, {\"commodity_desc\": \"SOYBEANS\", \"year\": 1970, \"total_prod\": 4971500.0}, {\"commodity_desc\": \"SOYBEANS\", \"year\": 1971, \"total_prod\": 4977200.0}, {\"commodity_desc\": \"SOYBEANS\", \"year\": 1972, \"total_prod\": 11890000.0}, {\"commodity_desc\": \"SOYBEANS\", \"year\": 1973, \"total_prod\": 32446000.0}, {\"commodity_desc\": \"SOYBEANS\", \"year\": 1974, \"total_prod\": 34737500.0}, {\"commodity_desc\": \"SOYBEANS\", \"year\": 1975, \"total_prod\": 33944700.0}, {\"commodity_desc\": \"SOYBEANS\", \"year\": 1976, \"total_prod\": 30673400.0}, {\"commodity_desc\": \"SOYBEANS\", \"year\": 1977, \"total_prod\": 35606900.0}, {\"commodity_desc\": \"SOYBEANS\", \"year\": 1978, \"total_prod\": 39092900.0}, {\"commodity_desc\": \"SOYBEANS\", \"year\": 1979, \"total_prod\": 42987500.0}, {\"commodity_desc\": \"SOYBEANS\", \"year\": 1980, \"total_prod\": 42082500.0}, {\"commodity_desc\": \"SOYBEANS\", \"year\": 1981, \"total_prod\": 41229500.0}, {\"commodity_desc\": \"SOYBEANS\", \"year\": 1982, \"total_prod\": 43734000.0}, {\"commodity_desc\": \"SOYBEANS\", \"year\": 1983, \"total_prod\": 41039000.0}, {\"commodity_desc\": \"SOYBEANS\", \"year\": 1984, \"total_prod\": 44828300.0}, {\"commodity_desc\": \"SOYBEANS\", \"year\": 1985, \"total_prod\": 43228500.0}, {\"commodity_desc\": \"SOYBEANS\", \"year\": 1986, \"total_prod\": 43174200.0}, {\"commodity_desc\": \"SOYBEANS\", \"year\": 1987, \"total_prod\": 42698500.0}, {\"commodity_desc\": \"SOYBEANS\", \"year\": 1988, \"total_prod\": 42989700.0}, {\"commodity_desc\": \"SOYBEANS\", \"year\": 1989, \"total_prod\": 43808700.0}, {\"commodity_desc\": \"SOYBEANS\", \"year\": 1990, \"total_prod\": 42237300.0}, {\"commodity_desc\": \"SOYBEANS\", \"year\": 1991, \"total_prod\": 45454100.0}, {\"commodity_desc\": \"SOYBEANS\", \"year\": 1992, \"total_prod\": 45399000.0}, {\"commodity_desc\": \"SOYBEANS\", \"year\": 1993, \"total_prod\": 45709300.0}, {\"commodity_desc\": \"SOYBEANS\", \"year\": 1994, \"total_prod\": 47729400.0}, {\"commodity_desc\": \"SOYBEANS\", \"year\": 1995, \"total_prod\": 49337400.0}, {\"commodity_desc\": \"SOYBEANS\", \"year\": 1996, \"total_prod\": 50614100.0}, {\"commodity_desc\": \"SOYBEANS\", \"year\": 1997, \"total_prod\": 55051100.0}, {\"commodity_desc\": \"SOYBEANS\", \"year\": 1998, \"total_prod\": 57333100.0}, {\"commodity_desc\": \"SOYBEANS\", \"year\": 1999, \"total_prod\": 59887800.0}, {\"commodity_desc\": \"SOYBEANS\", \"year\": 2000, \"total_prod\": 61087700.0}, {\"commodity_desc\": \"SOYBEANS\", \"year\": 2001, \"total_prod\": 62339800.0}, {\"commodity_desc\": \"SOYBEANS\", \"year\": 2002, \"total_prod\": 61808800.0}, {\"commodity_desc\": \"SOYBEANS\", \"year\": 2003, \"total_prod\": 61417000.0}, {\"commodity_desc\": \"SOYBEANS\", \"year\": 2004, \"total_prod\": 61547000.0}, {\"commodity_desc\": \"SOYBEANS\", \"year\": 2005, \"total_prod\": 59354400.0}, {\"commodity_desc\": \"SOYBEANS\", \"year\": 2006, \"total_prod\": 62795500.0}, {\"commodity_desc\": \"SOYBEANS\", \"year\": 2007, \"total_prod\": 53091400.0}, {\"commodity_desc\": \"SOYBEANS\", \"year\": 2008, \"total_prod\": 60622200.0}, {\"commodity_desc\": \"SOYBEANS\", \"year\": 2009, \"total_prod\": 61661500.0}, {\"commodity_desc\": \"SOYBEANS\", \"year\": 2010, \"total_prod\": 62793400.0}, {\"commodity_desc\": \"SOYBEANS\", \"year\": 2011, \"total_prod\": 61101200.0}, {\"commodity_desc\": \"SOYBEANS\", \"year\": 2012, \"total_prod\": 62759100.0}, {\"commodity_desc\": \"SOYBEANS\", \"year\": 2013, \"total_prod\": 61880600.0}, {\"commodity_desc\": \"SOYBEANS\", \"year\": 2014, \"total_prod\": 67038100.0}, {\"commodity_desc\": \"SOYBEANS\", \"year\": 2015, \"total_prod\": 65910700.0}, {\"commodity_desc\": \"SOYBEANS\", \"year\": 2016, \"total_prod\": 67649200.0}, {\"commodity_desc\": \"SOYBEANS\", \"year\": 2017, \"total_prod\": 73301000.0}, {\"commodity_desc\": \"SOYBEANS\", \"year\": 2018, \"total_prod\": 72563600.0}, {\"commodity_desc\": \"SOYBEANS\", \"year\": 2019, \"total_prod\": 62522500.0}, {\"commodity_desc\": \"SOYBEANS\", \"year\": 2020, \"total_prod\": 68670000.0}, {\"commodity_desc\": \"SOYBEANS\", \"year\": 2021, \"total_prod\": 72000000.0}, {\"commodity_desc\": \"SOYBEANS\", \"year\": 2022, \"total_prod\": 71410000.0}, {\"commodity_desc\": \"SOYBEANS\", \"year\": 2023, \"total_prod\": 68630000.0}, {\"commodity_desc\": \"WHEAT\", \"year\": 1960, \"total_prod\": 24213000.0}, {\"commodity_desc\": \"WHEAT\", \"year\": 1961, \"total_prod\": 26003000.0}, {\"commodity_desc\": \"WHEAT\", \"year\": 1962, \"total_prod\": 22733000.0}, {\"commodity_desc\": \"WHEAT\", \"year\": 1963, \"total_prod\": 24349000.0}, {\"commodity_desc\": \"WHEAT\", \"year\": 1964, \"total_prod\": 25185000.0}, {\"commodity_desc\": \"WHEAT\", \"year\": 1965, \"total_prod\": 26334000.0}, {\"commodity_desc\": \"WHEAT\", \"year\": 1966, \"total_prod\": 25097000.0}, {\"commodity_desc\": \"WHEAT\", \"year\": 1967, \"total_prod\": 30551000.0}, {\"commodity_desc\": \"WHEAT\", \"year\": 1968, \"total_prod\": 28153000.0}, {\"commodity_desc\": \"WHEAT\", \"year\": 1969, \"total_prod\": 24616000.0}, {\"commodity_desc\": \"WHEAT\", \"year\": 1970, \"total_prod\": 22407000.0}, {\"commodity_desc\": \"WHEAT\", \"year\": 1971, \"total_prod\": 25259000.0}, {\"commodity_desc\": \"WHEAT\", \"year\": 1972, \"total_prod\": 29213000.0}, {\"commodity_desc\": \"WHEAT\", \"year\": 1973, \"total_prod\": 31718000.0}, {\"commodity_desc\": \"WHEAT\", \"year\": 1974, \"total_prod\": 38649000.0}, {\"commodity_desc\": \"WHEAT\", \"year\": 1975, \"total_prod\": 40761000.0}, {\"commodity_desc\": \"WHEAT\", \"year\": 1976, \"total_prod\": 44728000.0}, {\"commodity_desc\": \"WHEAT\", \"year\": 1977, \"total_prod\": 41303000.0}, {\"commodity_desc\": \"WHEAT\", \"year\": 1978, \"total_prod\": 34853000.0}, {\"commodity_desc\": \"WHEAT\", \"year\": 1979, \"total_prod\": 37412000.0}, {\"commodity_desc\": \"WHEAT\", \"year\": 1980, \"total_prod\": 42789000.0}, {\"commodity_desc\": \"WHEAT\", \"year\": 1981, \"total_prod\": 45646000.0}, {\"commodity_desc\": \"WHEAT\", \"year\": 1982, \"total_prod\": 42390000.0}, {\"commodity_desc\": \"WHEAT\", \"year\": 1983, \"total_prod\": 35993000.0}, {\"commodity_desc\": \"WHEAT\", \"year\": 1984, \"total_prod\": 39710000.0}, {\"commodity_desc\": \"WHEAT\", \"year\": 1985, \"total_prod\": 36535000.0}, {\"commodity_desc\": \"WHEAT\", \"year\": 1986, \"total_prod\": 35850000.0}, {\"commodity_desc\": \"WHEAT\", \"year\": 1987, \"total_prod\": 32745000.0}, {\"commodity_desc\": \"WHEAT\", \"year\": 1988, \"total_prod\": 33570000.0}, {\"commodity_desc\": \"WHEAT\", \"year\": 1989, \"total_prod\": 39417000.0}, {\"commodity_desc\": \"WHEAT\", \"year\": 1990, \"total_prod\": 40905000.0}, {\"commodity_desc\": \"WHEAT\", \"year\": 1991, \"total_prod\": 35802200.0}, {\"commodity_desc\": \"WHEAT\", \"year\": 1992, \"total_prod\": 39110200.0}, {\"commodity_desc\": \"WHEAT\", \"year\": 1993, \"total_prod\": 38632500.0}, {\"commodity_desc\": \"WHEAT\", \"year\": 1994, \"total_prod\": 37106300.0}, {\"commodity_desc\": \"WHEAT\", \"year\": 1995, \"total_prod\": 35910100.0}, {\"commodity_desc\": \"WHEAT\", \"year\": 1996, \"total_prod\": 40090000.0}, {\"commodity_desc\": \"WHEAT\", \"year\": 1997, \"total_prod\": 36454700.0}, {\"commodity_desc\": \"WHEAT\", \"year\": 1998, \"total_prod\": 33091300.0}, {\"commodity_desc\": \"WHEAT\", \"year\": 1999, \"total_prod\": 30818800.0}, {\"commodity_desc\": \"WHEAT\", \"year\": 2000, \"total_prod\": 31128300.0}, {\"commodity_desc\": \"WHEAT\", \"year\": 2001, \"total_prod\": 29599910.0}, {\"commodity_desc\": \"WHEAT\", \"year\": 2002, \"total_prod\": 28931900.0}, {\"commodity_desc\": \"WHEAT\", \"year\": 2003, \"total_prod\": 30227600.0}, {\"commodity_desc\": \"WHEAT\", \"year\": 2004, \"total_prod\": 29308500.0}, {\"commodity_desc\": \"WHEAT\", \"year\": 2005, \"total_prod\": 29334100.0}, {\"commodity_desc\": \"WHEAT\", \"year\": 2006, \"total_prod\": 29785920.0}, {\"commodity_desc\": \"WHEAT\", \"year\": 2007, \"total_prod\": 30485700.0}, {\"commodity_desc\": \"WHEAT\", \"year\": 2008, \"total_prod\": 30754600.0}, {\"commodity_desc\": \"WHEAT\", \"year\": 2009, \"total_prod\": 28523400.0}, {\"commodity_desc\": \"WHEAT\", \"year\": 2010, \"total_prod\": 25010800.0}, {\"commodity_desc\": \"WHEAT\", \"year\": 2011, \"total_prod\": 25454900.0}, {\"commodity_desc\": \"WHEAT\", \"year\": 2012, \"total_prod\": 25296700.0}, {\"commodity_desc\": \"WHEAT\", \"year\": 2013, \"total_prod\": 24211000.0}, {\"commodity_desc\": \"WHEAT\", \"year\": 2014, \"total_prod\": 26193800.0}, {\"commodity_desc\": \"WHEAT\", \"year\": 2015, \"total_prod\": 25460800.0}, {\"commodity_desc\": \"WHEAT\", \"year\": 2016, \"total_prod\": 23978100.0}, {\"commodity_desc\": \"WHEAT\", \"year\": 2017, \"total_prod\": 20886400.0}, {\"commodity_desc\": \"WHEAT\", \"year\": 2018, \"total_prod\": 22746600.0}, {\"commodity_desc\": \"WHEAT\", \"year\": 2019, \"total_prod\": 20915300.0}, {\"commodity_desc\": \"WHEAT\", \"year\": 2020, \"total_prod\": 19510000.0}, {\"commodity_desc\": \"WHEAT\", \"year\": 2021, \"total_prod\": 20550000.0}, {\"commodity_desc\": \"WHEAT\", \"year\": 2022, \"total_prod\": 20145000.0}, {\"commodity_desc\": \"WHEAT\", \"year\": 2023, \"total_prod\": 22355000.0}]}}, {\"mode\": \"vega-lite\"});\n",
       "</script>"
      ],
      "text/plain": [
       "alt.Chart(...)"
      ]
     },
     "execution_count": 9,
     "metadata": {},
     "output_type": "execute_result"
    }
   ],
   "source": [
    "db_name = 'field_crops.db'\n",
    "table = 'midwest_area_planted_cleaned'\n",
    "\n",
    "query = f\"\"\"\n",
    "Select \n",
    "    commodity_desc,\n",
    "    year, \n",
    "    sum(value) as total_prod\n",
    "from {table} \n",
    "where short_desc != 'CORN, SILAGE - PRODUCTION, MEASURED IN TONS'\n",
    "group by \n",
    "    commodity_desc, year\n",
    "\"\"\"\n",
    "\n",
    "conn = sqlite3.connect(db_name) \n",
    "result = pd.read_sql(query, conn)\n",
    "\n",
    "# Create the Altair line chart\n",
    "chart = alt.Chart(result).mark_area().encode(\n",
    "    x='year:O',  # Treat 'year' as an ordinal value (categorical)\n",
    "    y='total_prod:Q',\n",
    "    color='commodity_desc:N'        \n",
    "    ).properties(\n",
    "        title='Total Production in Crop Over Time',\n",
    "        width=600,\n",
    "        height=400\n",
    "    )\n",
    "chart"
   ]
  },
  {
   "cell_type": "markdown",
   "metadata": {},
   "source": [
    "bubble chart of states or counties based on production amount and location or tempera"
   ]
  }
 ],
 "metadata": {
  "kernelspec": {
   "display_name": "ag-data-viz-5d2VArwu-py3.12",
   "language": "python",
   "name": "python3"
  },
  "language_info": {
   "codemirror_mode": {
    "name": "ipython",
    "version": 3
   },
   "file_extension": ".py",
   "mimetype": "text/x-python",
   "name": "python",
   "nbconvert_exporter": "python",
   "pygments_lexer": "ipython3",
   "version": "3.12.0"
  }
 },
 "nbformat": 4,
 "nbformat_minor": 2
}
